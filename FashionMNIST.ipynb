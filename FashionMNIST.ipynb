{
  "nbformat": 4,
  "nbformat_minor": 0,
  "metadata": {
    "colab": {
      "name": "FashionMNIST.ipynb",
      "provenance": [],
      "collapsed_sections": [],
      "machine_shape": "hm"
    },
    "kernelspec": {
      "name": "python3",
      "display_name": "Python 3"
    },
    "accelerator": "GPU"
  },
  "cells": [
    {
      "cell_type": "code",
      "metadata": {
        "id": "3vfVIs1QYdW3",
        "colab_type": "code",
        "outputId": "07ac2c46-6dac-4329-ba17-429f86c21a99",
        "colab": {
          "base_uri": "https://localhost:8080/",
          "height": 34
        }
      },
      "source": [
        "import numpy as np\n",
        "import pandas as pd\n",
        "import math\n",
        "import fnmatch\n",
        "from matplotlib import pyplot as plt\n",
        "from matplotlib import cm\n",
        "from matplotlib import gridspec\n",
        "import seaborn as sns\n",
        "import tempfile\n",
        "import tensorflow as tf\n",
        "from IPython import display\n",
        "import os\n",
        "import glob\n",
        "from tensorflow.data import Dataset\n",
        "import keras\n",
        "from sklearn.model_selection import train_test_split\n",
        "from sklearn import metrics"
      ],
      "execution_count": 1,
      "outputs": [
        {
          "output_type": "stream",
          "text": [
            "Using TensorFlow backend.\n"
          ],
          "name": "stderr"
        }
      ]
    },
    {
      "cell_type": "code",
      "metadata": {
        "id": "ggx29vp2ar22",
        "colab_type": "code",
        "colab": {}
      },
      "source": [
        "#tf.logging.set_verbosity(tf.logging.ERROR)\n",
        "pd.options.display.max_rows=10\n",
        "pd.options.display.float_format='{:.1f}'.format"
      ],
      "execution_count": 0,
      "outputs": []
    },
    {
      "cell_type": "code",
      "metadata": {
        "id": "Vowm4v9pbb2K",
        "colab_type": "code",
        "outputId": "e56dff95-2ccd-4c4a-8bcc-c0b2a2e98736",
        "colab": {
          "base_uri": "https://localhost:8080/",
          "height": 170
        }
      },
      "source": [
        "fashion_mnist = keras.datasets.fashion_mnist\n",
        "(images, labels), (test_images, test_labels) = fashion_mnist.load_data()\n",
        "images.shape,labels.shape,test_images.shape,test_labels.shape"
      ],
      "execution_count": 3,
      "outputs": [
        {
          "output_type": "stream",
          "text": [
            "Downloading data from http://fashion-mnist.s3-website.eu-central-1.amazonaws.com/train-labels-idx1-ubyte.gz\n",
            "32768/29515 [=================================] - 0s 0us/step\n",
            "Downloading data from http://fashion-mnist.s3-website.eu-central-1.amazonaws.com/train-images-idx3-ubyte.gz\n",
            "26427392/26421880 [==============================] - 0s 0us/step\n",
            "Downloading data from http://fashion-mnist.s3-website.eu-central-1.amazonaws.com/t10k-labels-idx1-ubyte.gz\n",
            "8192/5148 [===============================================] - 0s 0us/step\n",
            "Downloading data from http://fashion-mnist.s3-website.eu-central-1.amazonaws.com/t10k-images-idx3-ubyte.gz\n",
            "4423680/4422102 [==============================] - 0s 0us/step\n"
          ],
          "name": "stdout"
        },
        {
          "output_type": "execute_result",
          "data": {
            "text/plain": [
              "((60000, 28, 28), (60000,), (10000, 28, 28), (10000,))"
            ]
          },
          "metadata": {
            "tags": []
          },
          "execution_count": 3
        }
      ]
    },
    {
      "cell_type": "markdown",
      "metadata": {
        "id": "d9BsR8K_c2Ez",
        "colab_type": "text"
      },
      "source": [
        "we have 60000 images, lets use them for training and validation.\n",
        "we have 10000 images saperately for testing."
      ]
    },
    {
      "cell_type": "code",
      "metadata": {
        "id": "lzSt9h7xcr1l",
        "colab_type": "code",
        "colab": {}
      },
      "source": [
        "def prepare_features(images,labels,shuffle=False):\n",
        "  images = images.reshape((images.shape[0],images.shape[1]*images.shape[2]))\n",
        "  labels = labels.reshape((-1,1))\n",
        "  \n",
        "  images = pd.DataFrame(images)\n",
        "  labels = pd.DataFrame(labels)\n",
        "  \n",
        "  if shuffle==True:\n",
        "    idx = np.random.permutation(images.index)\n",
        "    images = images.reindex(idx)\n",
        "    labels = labels.reindex(idx)\n",
        "  \n",
        "  images = images/255\n",
        "  \n",
        "  return images,labels"
      ],
      "execution_count": 0,
      "outputs": []
    },
    {
      "cell_type": "code",
      "metadata": {
        "id": "U68iBX_ydkjC",
        "colab_type": "code",
        "outputId": "1727dc7c-d721-4af7-e91a-a75cec8a46fc",
        "colab": {
          "base_uri": "https://localhost:8080/",
          "height": 34
        }
      },
      "source": [
        "images,labels = prepare_features(images,labels,shuffle=True)\n",
        "test_images,test_labels = prepare_features(test_images,test_labels)\n",
        "train_images, validation_images,train_labels,validation_labels = train_test_split(images,labels,stratify=labels,test_size=0.1)\n",
        "train_images.shape,train_labels.shape,validation_images.shape,validation_labels.shape,test_images.shape,test_labels.shape"
      ],
      "execution_count": 5,
      "outputs": [
        {
          "output_type": "execute_result",
          "data": {
            "text/plain": [
              "((54000, 784), (54000, 1), (6000, 784), (6000, 1), (10000, 784), (10000, 1))"
            ]
          },
          "metadata": {
            "tags": []
          },
          "execution_count": 5
        }
      ]
    },
    {
      "cell_type": "markdown",
      "metadata": {
        "id": "dxEY36WthmrC",
        "colab_type": "text"
      },
      "source": [
        "lets take only first 10000 training images, 1000 validatation images and 1000 testing images"
      ]
    },
    {
      "cell_type": "code",
      "metadata": {
        "id": "g2Wlni-vhwQk",
        "colab_type": "code",
        "colab": {}
      },
      "source": [
        "train_images = train_images.head(10000)\n",
        "train_labels = train_labels.head(10000)\n",
        "validation_images = validation_images.head(1000)\n",
        "validation_labels = validation_labels.head(1000)\n",
        "test_images = test_images.head(1000)\n",
        "test_labels = test_labels.head(1000)"
      ],
      "execution_count": 0,
      "outputs": []
    },
    {
      "cell_type": "code",
      "metadata": {
        "id": "Ay_J6DxUjL_E",
        "colab_type": "code",
        "colab": {
          "base_uri": "https://localhost:8080/",
          "height": 34
        },
        "outputId": "c475d230-6253-4568-ebc8-5eb2420470cd"
      },
      "source": [
        "train_images.shape,train_labels.shape,validation_images.shape,validation_labels.shape,test_images.shape,test_labels.shape"
      ],
      "execution_count": 7,
      "outputs": [
        {
          "output_type": "execute_result",
          "data": {
            "text/plain": [
              "((10000, 784), (10000, 1), (1000, 784), (1000, 1), (1000, 784), (1000, 1))"
            ]
          },
          "metadata": {
            "tags": []
          },
          "execution_count": 7
        }
      ]
    },
    {
      "cell_type": "code",
      "metadata": {
        "id": "wgNY2QX0ecOI",
        "colab_type": "code",
        "outputId": "5a11cb00-88af-48e8-8c78-382e1abf1eb9",
        "colab": {
          "base_uri": "https://localhost:8080/",
          "height": 34
        }
      },
      "source": [
        "print(\"labels:\",np.unique(labels.values))"
      ],
      "execution_count": 8,
      "outputs": [
        {
          "output_type": "stream",
          "text": [
            "labels: [0 1 2 3 4 5 6 7 8 9]\n"
          ],
          "name": "stdout"
        }
      ]
    },
    {
      "cell_type": "code",
      "metadata": {
        "id": "jAg3i06AY91b",
        "colab_type": "code",
        "colab": {}
      },
      "source": [
        "class_names = ['T-shirt/top', 'Trouser', 'Pullover', 'Dress', 'Coat',\n",
        "               'Sandal', 'Shirt', 'Sneaker', 'Bag', 'Ankle boot']"
      ],
      "execution_count": 0,
      "outputs": []
    },
    {
      "cell_type": "markdown",
      "metadata": {
        "id": "6GqHM7FwlDoD",
        "colab_type": "text"
      },
      "source": [
        "our data is ready in shape, we have :\n",
        " 10000 training examples,\n",
        "  1000 validation examples,\n",
        "  1000 testing examples.\n",
        "  \n",
        "  and we can see that we have total of 10 labels.\n",
        "\n"
      ]
    },
    {
      "cell_type": "markdown",
      "metadata": {
        "id": "bs11nvS6mUCl",
        "colab_type": "text"
      },
      "source": [
        "lets plot one random example"
      ]
    },
    {
      "cell_type": "code",
      "metadata": {
        "id": "ywuR-jGvmNhh",
        "colab_type": "code",
        "outputId": "39acd02a-a50c-46d6-d90f-61d264650f33",
        "colab": {
          "base_uri": "https://localhost:8080/",
          "height": 285
        }
      },
      "source": [
        "random_choice = np.random.choice(train_images.index)\n",
        "label = train_labels.loc[random_choice:random_choice,:].values[0][0]\n",
        "image = train_images.loc[random_choice:random_choice,:].values.reshape(28,28)\n",
        "\n",
        "plt.matshow(image,cmap=\"gray\")\n",
        "plt.grid(False)\n",
        "plt.title(class_names[label])\n",
        "plt.show()"
      ],
      "execution_count": 10,
      "outputs": [
        {
          "output_type": "display_data",
          "data": {
            "image/png": "[encoded data removed]",
            "text/plain": [
              "<Figure size 288x288 with 1 Axes>"
            ]
          },
          "metadata": {
            "tags": []
          }
        }
      ]
    },
    {
      "cell_type": "markdown",
      "metadata": {
        "id": "enPNOxMLaii6",
        "colab_type": "text"
      },
      "source": [
        "lets build input functions"
      ]
    },
    {
      "cell_type": "code",
      "metadata": {
        "id": "EUSb-LC3ZGYU",
        "colab_type": "code",
        "colab": {}
      },
      "source": [
        "def train_input_fn(images,labels,batch_size,shuffle=False,num_epochs=None):\n",
        "  def input_fn():\n",
        "    r_images={\"pixels\":images.values}\n",
        "    r_labels=labels.values\n",
        "    r_labels = tf.cast(r_labels, tf.int32)#otherwise it throws error during training in input function\n",
        "    ds = Dataset.from_tensor_slices((r_images,r_labels))\n",
        "    ds = ds.batch(batch_size).repeat(num_epochs)\n",
        "    if(shuffle==True):\n",
        "      ds = ds.shuffle(1000)\n",
        "    iterator = ds.make_one_shot_iterator()\n",
        "    images_batch,labels_batch = iterator.get_next()\n",
        "    return images_batch,labels_batch\n",
        "  return input_fn"
      ],
      "execution_count": 0,
      "outputs": []
    },
    {
      "cell_type": "code",
      "metadata": {
        "id": "lkmq6W8hfXFA",
        "colab_type": "code",
        "colab": {}
      },
      "source": [
        "def predict_input_fn(images,labels,batch_size):\n",
        "  def input_fn():\n",
        "    r_images={\"pixels\":images.values}\n",
        "    r_labels=labels.values\n",
        "    r_labels = tf.cast(r_labels, tf.int32)#otherwise it throws error during training in input function\n",
        "    ds = Dataset.from_tensor_slices((r_images,r_labels))\n",
        "    ds = ds.batch(batch_size)\n",
        "    iterator = ds.make_one_shot_iterator()\n",
        "    images_batch,labels_batch = iterator.get_next()\n",
        "    return images_batch,labels_batch\n",
        "  return input_fn\n",
        "    "
      ],
      "execution_count": 0,
      "outputs": []
    },
    {
      "cell_type": "markdown",
      "metadata": {
        "id": "wil-pyc1hHGA",
        "colab_type": "text"
      },
      "source": [
        "lets construct feature columns"
      ]
    },
    {
      "cell_type": "code",
      "metadata": {
        "id": "IN_h18fNhD6i",
        "colab_type": "code",
        "colab": {}
      },
      "source": [
        "def construct_feature_columns():\n",
        "  return set([tf.feature_column.numeric_column(\"pixels\",shape=(784))])"
      ],
      "execution_count": 0,
      "outputs": []
    },
    {
      "cell_type": "markdown",
      "metadata": {
        "id": "lS_LR7iPh53-",
        "colab_type": "text"
      },
      "source": [
        "define linear model"
      ]
    },
    {
      "cell_type": "code",
      "metadata": {
        "id": "HCoBY8ehy_Cg",
        "colab_type": "code",
        "colab": {}
      },
      "source": [
        "def create_model(train_images,train_labels,validation_images,validation_labels,learning_rate,batch_size=100,steps=10,num_epochs=None,shuffle=False):\n",
        "  \n",
        "  training_input_fn = train_input_fn(train_images,train_labels,batch_size,shuffle,num_epochs)\n",
        "  training_validation_input_fn = predict_input_fn(train_images,train_labels,batch_size)\n",
        "  validating_validation_input_fn = predict_input_fn(validation_images,validation_labels,batch_size)\n",
        "  \n",
        "  my_optimizer = tf.train.AdagradOptimizer(learning_rate=learning_rate)\n",
        "  my_optimizer = tf.contrib.estimator.clip_gradients_by_norm(my_optimizer,5.0)\n",
        "  \n",
        "  classifier = tf.estimator.LinearClassifier(\n",
        "      feature_columns=construct_feature_columns(),\n",
        "      optimizer=my_optimizer,\n",
        "      n_classes=10\n",
        "  )\n",
        "  \n",
        "  periods = 10\n",
        "  steps_per_period = steps/periods\n",
        "  training_losses=[]\n",
        "  validation_losses=[]\n",
        "  \n",
        "  for period in range(periods):\n",
        "    \n",
        "    classifier.train(\n",
        "        input_fn=training_input_fn,\n",
        "        steps=steps_per_period\n",
        "    )\n",
        "    \n",
        "    training_predictions = classifier.predict(input_fn=training_validation_input_fn)\n",
        "    training_predictions = [item['class_ids'][0] for item in training_predictions]\n",
        "    training_predictions = tf.keras.utils.to_categorical(training_predictions,10)\n",
        "    training_loss = metrics.log_loss(train_labels,training_predictions)\n",
        "    training_losses.append(training_loss)\n",
        "    \n",
        "    validation_predictions = classifier.predict(input_fn=validating_validation_input_fn)\n",
        "    validation_predictions = [item['class_ids'][0] for item in validation_predictions]\n",
        "    validation_predictions = tf.keras.utils.to_categorical(validation_predictions,10)\n",
        "    validation_loss = metrics.log_loss(validation_labels,validation_predictions)\n",
        "    validation_losses.append(validation_loss)\n",
        "    \n",
        "    print(\"period %d: training loss %d, validation loss %d\"%(period,training_loss,validation_loss))\n",
        "    \n",
        "  \n",
        "  \n",
        "  #training_validation_input_fn = predict_input_fn(train_images,train_labels,batch_size)\n",
        "  final_training_predictions = classifier.predict(input_fn=training_validation_input_fn)\n",
        "  final_training_predictions = [item['class_ids'][0] for item in final_training_predictions]\n",
        "  training_accuracy = metrics.accuracy_score(final_training_predictions,train_labels)\n",
        "\n",
        "  #validating_validation_input_fn = predict_input_fn(validation_images,validation_labels,batch_size) \n",
        "  final_validating_predictions = classifier.predict(input_fn=validating_validation_input_fn)\n",
        "  final_validating_predictions = [item['class_ids'][0] for item in final_validating_predictions]\n",
        "  validating_accuracy = metrics.accuracy_score(final_validating_predictions,validation_labels)\n",
        "\n",
        "  print(\"\\naccuracy on training data is\",training_accuracy,\"and on validating data is %d \",validating_accuracy)\n",
        "  \n",
        "  plt.plot(training_losses,label=\"training loss\")\n",
        "  plt.plot(validation_losses,label=\"validation loss\")\n",
        "  plt.xlabel(\"period\")\n",
        "  plt.ylabel(\"loss\")\n",
        "  plt.show()\n",
        "  \n",
        "  cm = metrics.confusion_matrix(validation_labels,final_validating_predictions)\n",
        "  cm_normalized = cm.astype('float')/cm.sum(axis=1)[:, np.newaxis]\n",
        "  ax=sns.heatmap(cm_normalized,cmap=\"bone_r\")\n",
        "  ax.set_aspect(1)\n",
        "  plt.title(\"Confusion matrix\")\n",
        "  plt.ylabel(\"True label\")\n",
        "  plt.xlabel(\"Predicted label\")\n",
        "  plt.show()\n",
        "  \n",
        "  return classifier\n",
        "    \n",
        "    "
      ],
      "execution_count": 0,
      "outputs": []
    },
    {
      "cell_type": "code",
      "metadata": {
        "id": "zNyYBVWyZ321",
        "colab_type": "code",
        "colab": {}
      },
      "source": [
        "learning_rate = 0.02\n",
        "batch_size=10\n",
        "num_epochs=5\n",
        "shuffle=True\n",
        "steps=1000\n",
        "classifier = create_model(train_images,train_labels,validation_images,validation_labels,learning_rate,batch_size,steps,num_epochs,shuffle)"
      ],
      "execution_count": 0,
      "outputs": []
    },
    {
      "cell_type": "code",
      "metadata": {
        "id": "VycMzpRfLBdA",
        "colab_type": "code",
        "outputId": "be17c486-3fe3-4436-e4d9-da783fa9af7e",
        "colab": {
          "base_uri": "https://localhost:8080/",
          "height": 136
        }
      },
      "source": [
        "validating_test_input_fn = predict_input_fn(test_images,test_labels,batch_size) \n",
        "final_testing_predictions = classifier.predict(input_fn=validating_test_input_fn)\n",
        "final_testing_predictions = [item['class_ids'][0] for item in final_testing_predictions]\n",
        "test_accuracy = metrics.accuracy_score(final_testing_predictions,test_labels)\n",
        "\n",
        "print(\"accuracy on test data is \",test_accuracy)"
      ],
      "execution_count": 40,
      "outputs": [
        {
          "output_type": "stream",
          "text": [
            "INFO:tensorflow:Calling model_fn.\n",
            "INFO:tensorflow:Done calling model_fn.\n",
            "INFO:tensorflow:Graph was finalized.\n",
            "INFO:tensorflow:Restoring parameters from /tmp/tmpxymwvs8d/model.ckpt-1000\n",
            "INFO:tensorflow:Running local_init_op.\n",
            "INFO:tensorflow:Done running local_init_op.\n",
            "accuracy on test data is  0.806\n"
          ],
          "name": "stdout"
        }
      ]
    },
    {
      "cell_type": "markdown",
      "metadata": {
        "id": "C7EyAabzq7QL",
        "colab_type": "text"
      },
      "source": [
        "now try to build neural network classifier"
      ]
    },
    {
      "cell_type": "code",
      "metadata": {
        "id": "yN24EsCnlshw",
        "colab_type": "code",
        "colab": {}
      },
      "source": [
        "tf.estimator.DNNClassifier?"
      ],
      "execution_count": 0,
      "outputs": []
    },
    {
      "cell_type": "code",
      "metadata": {
        "id": "1_pMZLKJrKff",
        "colab_type": "code",
        "colab": {
          "base_uri": "https://localhost:8080/",
          "height": 190
        },
        "outputId": "169390ae-e957-4cef-95a2-3ac9c6d26e84"
      },
      "source": [
        "my_optimizer = tf.train.AdagradOptimizer(learning_rate=learning_rate)\n",
        "my_optimizer = tf.contrib.estimator.clip_gradients_by_norm(my_optimizer,5.0)\n",
        " \n",
        "nn_classifier = tf.estimator.DNNClassifier(\n",
        "      hidden_units=[10,10],\n",
        "      feature_columns=construct_feature_columns(),\n",
        "      optimizer=my_optimizer,\n",
        "      n_classes=10\n",
        "  )"
      ],
      "execution_count": 43,
      "outputs": [
        {
          "output_type": "stream",
          "text": [
            "INFO:tensorflow:Using default config.\n",
            "WARNING:tensorflow:Using temporary folder as model directory: /tmp/tmpkthix4yy\n",
            "INFO:tensorflow:Using config: {'_model_dir': '/tmp/tmpkthix4yy', '_tf_random_seed': None, '_save_summary_steps': 100, '_save_checkpoints_steps': None, '_save_checkpoints_secs': 600, '_session_config': allow_soft_placement: true\n",
            "graph_options {\n",
            "  rewrite_options {\n",
            "    meta_optimizer_iterations: ONE\n",
            "  }\n",
            "}\n",
            ", '_keep_checkpoint_max': 5, '_keep_checkpoint_every_n_hours': 10000, '_log_step_count_steps': 100, '_train_distribute': None, '_device_fn': None, '_protocol': None, '_eval_distribute': None, '_experimental_distribute': None, '_experimental_max_worker_delay_secs': None, '_session_creation_timeout_secs': 7200, '_service': None, '_cluster_spec': <tensorflow.python.training.server_lib.ClusterSpec object at 0x7f1d0055b588>, '_task_type': 'worker', '_task_id': 0, '_global_id_in_cluster': 0, '_master': '', '_evaluation_master': '', '_is_chief': True, '_num_ps_replicas': 0, '_num_worker_replicas': 1}\n"
          ],
          "name": "stdout"
        }
      ]
    },
    {
      "cell_type": "code",
      "metadata": {
        "id": "6FEkn0OFsT_3",
        "colab_type": "code",
        "colab": {
          "base_uri": "https://localhost:8080/",
          "height": 204
        },
        "outputId": "8936b4ce-f6e8-4a9a-d1d0-a4f6500109b6"
      },
      "source": [
        "nn_classifier.train(\n",
        "        input_fn=train_input_fn(train_images,train_labels,100,True,2),\n",
        "        steps=100\n",
        "    )"
      ],
      "execution_count": 45,
      "outputs": [
        {
          "output_type": "stream",
          "text": [
            "INFO:tensorflow:Calling model_fn.\n",
            "INFO:tensorflow:Done calling model_fn.\n",
            "INFO:tensorflow:Create CheckpointSaverHook.\n",
            "INFO:tensorflow:Graph was finalized.\n",
            "INFO:tensorflow:Running local_init_op.\n",
            "INFO:tensorflow:Done running local_init_op.\n",
            "INFO:tensorflow:Saving checkpoints for 0 into /tmp/tmpkthix4yy/model.ckpt.\n",
            "INFO:tensorflow:loss = 234.67276, step = 0\n",
            "INFO:tensorflow:Saving checkpoints for 100 into /tmp/tmpkthix4yy/model.ckpt.\n",
            "INFO:tensorflow:Loss for final step: 76.352196.\n"
          ],
          "name": "stdout"
        },
        {
          "output_type": "execute_result",
          "data": {
            "text/plain": [
              "<tensorflow_estimator.python.estimator.canned.dnn.DNNClassifier at 0x7f1d0055bbe0>"
            ]
          },
          "metadata": {
            "tags": []
          },
          "execution_count": 45
        }
      ]
    },
    {
      "cell_type": "code",
      "metadata": {
        "id": "vEwSmnd1sf4D",
        "colab_type": "code",
        "colab": {}
      },
      "source": [
        "def create_dnn_model(train_images,train_labels,validation_images,validation_labels,learning_rate,batch_size=100,steps=10,num_epochs=None,shuffle=False,hidden_units=[10,10]):\n",
        "  \n",
        "  training_input_fn = train_input_fn(train_images,train_labels,batch_size,shuffle,num_epochs)\n",
        "  training_validation_input_fn = predict_input_fn(train_images,train_labels,batch_size)\n",
        "  validating_validation_input_fn = predict_input_fn(validation_images,validation_labels,batch_size)\n",
        "  \n",
        "  my_optimizer = tf.train.AdagradOptimizer(learning_rate=learning_rate)\n",
        "  my_optimizer = tf.contrib.estimator.clip_gradients_by_norm(my_optimizer,5.0)\n",
        "  \n",
        "  classifier = tf.estimator.DNNClassifier(\n",
        "      hidden_units = hidden_units,\n",
        "      feature_columns=construct_feature_columns(),\n",
        "      optimizer=my_optimizer,\n",
        "      n_classes=10\n",
        "  )\n",
        "  \n",
        "  periods = 10\n",
        "  steps_per_period = steps/periods\n",
        "  training_losses=[]\n",
        "  validation_losses=[]\n",
        "  \n",
        "  for period in range(periods):\n",
        "    \n",
        "    classifier.train(\n",
        "        input_fn=training_input_fn,\n",
        "        steps=steps_per_period\n",
        "    )\n",
        "    \n",
        "    training_predictions = classifier.predict(input_fn=training_validation_input_fn)\n",
        "    training_predictions = [item['class_ids'][0] for item in training_predictions]\n",
        "    training_predictions = tf.keras.utils.to_categorical(training_predictions,10)\n",
        "    training_loss = metrics.log_loss(train_labels,training_predictions)\n",
        "    training_losses.append(training_loss)\n",
        "    \n",
        "    validation_predictions = classifier.predict(input_fn=validating_validation_input_fn)\n",
        "    validation_predictions = [item['class_ids'][0] for item in validation_predictions]\n",
        "    validation_predictions = tf.keras.utils.to_categorical(validation_predictions,10)\n",
        "    validation_loss = metrics.log_loss(validation_labels,validation_predictions)\n",
        "    validation_losses.append(validation_loss)\n",
        "    \n",
        "    print(\"period %d: training loss %d, validation loss %d\"%(period,training_loss,validation_loss))\n",
        "    \n",
        "  \n",
        "  \n",
        "  #training_validation_input_fn = predict_input_fn(train_images,train_labels,batch_size)\n",
        "  final_training_predictions = classifier.predict(input_fn=training_validation_input_fn)\n",
        "  final_training_predictions = [item['class_ids'][0] for item in final_training_predictions]\n",
        "  training_accuracy = metrics.accuracy_score(final_training_predictions,train_labels)\n",
        "\n",
        "  #validating_validation_input_fn = predict_input_fn(validation_images,validation_labels,batch_size) \n",
        "  final_validating_predictions = classifier.predict(input_fn=validating_validation_input_fn)\n",
        "  final_validating_predictions = [item['class_ids'][0] for item in final_validating_predictions]\n",
        "  validating_accuracy = metrics.accuracy_score(final_validating_predictions,validation_labels)\n",
        "\n",
        "  print(\"\\naccuracy on training data is\",training_accuracy,\"and on validating data is %d \",validating_accuracy)\n",
        "  \n",
        "  plt.plot(training_losses,label=\"training loss\")\n",
        "  plt.plot(validation_losses,label=\"validation loss\")\n",
        "  plt.xlabel(\"period\")\n",
        "  plt.ylabel(\"loss\")\n",
        "  plt.show()\n",
        "  \n",
        "  cm = metrics.confusion_matrix(validation_labels,final_validating_predictions)\n",
        "  cm_normalized = cm.astype('float')/cm.sum(axis=1)[:, np.newaxis]\n",
        "  ax=sns.heatmap(cm_normalized,cmap=\"bone_r\")\n",
        "  ax.set_aspect(1)\n",
        "  plt.title(\"Confusion matrix\")\n",
        "  plt.ylabel(\"True label\")\n",
        "  plt.xlabel(\"Predicted label\")\n",
        "  plt.show()\n",
        "  \n",
        "  return classifier\n",
        "    \n",
        "    "
      ],
      "execution_count": 0,
      "outputs": []
    },
    {
      "cell_type": "code",
      "metadata": {
        "id": "En2HjhTUtQKC",
        "colab_type": "code",
        "colab": {
          "base_uri": "https://localhost:8080/",
          "height": 1000
        },
        "outputId": "b67b8b2c-806c-4451-e9a6-14a65e3b609d"
      },
      "source": [
        "learning_rate = 0.02\n",
        "batch_size=10\n",
        "num_epochs=5\n",
        "shuffle=True\n",
        "steps=1000\n",
        "hidden_units=[10,10]\n",
        "classifier = create_dnn_model(train_images,train_labels,validation_images,validation_labels,learning_rate,batch_size,steps,num_epochs,shuffle,hidden_units)"
      ],
      "execution_count": 48,
      "outputs": [
        {
          "output_type": "stream",
          "text": [
            "INFO:tensorflow:Using default config.\n",
            "WARNING:tensorflow:Using temporary folder as model directory: /tmp/tmpt3utnrro\n",
            "INFO:tensorflow:Using config: {'_model_dir': '/tmp/tmpt3utnrro', '_tf_random_seed': None, '_save_summary_steps': 100, '_save_checkpoints_steps': None, '_save_checkpoints_secs': 600, '_session_config': allow_soft_placement: true\n",
            "graph_options {\n",
            "  rewrite_options {\n",
            "    meta_optimizer_iterations: ONE\n",
            "  }\n",
            "}\n",
            ", '_keep_checkpoint_max': 5, '_keep_checkpoint_every_n_hours': 10000, '_log_step_count_steps': 100, '_train_distribute': None, '_device_fn': None, '_protocol': None, '_eval_distribute': None, '_experimental_distribute': None, '_experimental_max_worker_delay_secs': None, '_session_creation_timeout_secs': 7200, '_service': None, '_cluster_spec': <tensorflow.python.training.server_lib.ClusterSpec object at 0x7f1d09912da0>, '_task_type': 'worker', '_task_id': 0, '_global_id_in_cluster': 0, '_master': '', '_evaluation_master': '', '_is_chief': True, '_num_ps_replicas': 0, '_num_worker_replicas': 1}\n",
            "INFO:tensorflow:Calling model_fn.\n",
            "INFO:tensorflow:Done calling model_fn.\n",
            "INFO:tensorflow:Create CheckpointSaverHook.\n",
            "INFO:tensorflow:Graph was finalized.\n",
            "INFO:tensorflow:Running local_init_op.\n",
            "INFO:tensorflow:Done running local_init_op.\n",
            "INFO:tensorflow:Saving checkpoints for 0 into /tmp/tmpt3utnrro/model.ckpt.\n",
            "INFO:tensorflow:loss = 24.173964, step = 0\n",
            "INFO:tensorflow:Saving checkpoints for 100 into /tmp/tmpt3utnrro/model.ckpt.\n",
            "INFO:tensorflow:Loss for final step: 13.930237.\n",
            "INFO:tensorflow:Calling model_fn.\n",
            "INFO:tensorflow:Done calling model_fn.\n",
            "INFO:tensorflow:Graph was finalized.\n",
            "INFO:tensorflow:Restoring parameters from /tmp/tmpt3utnrro/model.ckpt-100\n",
            "INFO:tensorflow:Running local_init_op.\n",
            "INFO:tensorflow:Done running local_init_op.\n",
            "INFO:tensorflow:Calling model_fn.\n",
            "INFO:tensorflow:Done calling model_fn.\n",
            "INFO:tensorflow:Graph was finalized.\n",
            "INFO:tensorflow:Restoring parameters from /tmp/tmpt3utnrro/model.ckpt-100\n",
            "INFO:tensorflow:Running local_init_op.\n",
            "INFO:tensorflow:Done running local_init_op.\n",
            "period 0: training loss 16, validation loss 15\n",
            "INFO:tensorflow:Calling model_fn.\n",
            "INFO:tensorflow:Done calling model_fn.\n",
            "INFO:tensorflow:Create CheckpointSaverHook.\n",
            "INFO:tensorflow:Graph was finalized.\n",
            "INFO:tensorflow:Restoring parameters from /tmp/tmpt3utnrro/model.ckpt-100\n",
            "INFO:tensorflow:Running local_init_op.\n",
            "INFO:tensorflow:Done running local_init_op.\n",
            "INFO:tensorflow:Saving checkpoints for 100 into /tmp/tmpt3utnrro/model.ckpt.\n",
            "INFO:tensorflow:loss = 17.210318, step = 100\n",
            "INFO:tensorflow:Saving checkpoints for 200 into /tmp/tmpt3utnrro/model.ckpt.\n",
            "INFO:tensorflow:Loss for final step: 19.733692.\n",
            "INFO:tensorflow:Calling model_fn.\n",
            "INFO:tensorflow:Done calling model_fn.\n",
            "INFO:tensorflow:Graph was finalized.\n",
            "INFO:tensorflow:Restoring parameters from /tmp/tmpt3utnrro/model.ckpt-200\n",
            "INFO:tensorflow:Running local_init_op.\n",
            "INFO:tensorflow:Done running local_init_op.\n",
            "INFO:tensorflow:Calling model_fn.\n",
            "INFO:tensorflow:Done calling model_fn.\n",
            "INFO:tensorflow:Graph was finalized.\n",
            "INFO:tensorflow:Restoring parameters from /tmp/tmpt3utnrro/model.ckpt-200\n",
            "INFO:tensorflow:Running local_init_op.\n",
            "INFO:tensorflow:Done running local_init_op.\n",
            "period 1: training loss 15, validation loss 14\n",
            "INFO:tensorflow:Calling model_fn.\n",
            "INFO:tensorflow:Done calling model_fn.\n",
            "INFO:tensorflow:Create CheckpointSaverHook.\n",
            "INFO:tensorflow:Graph was finalized.\n",
            "INFO:tensorflow:Restoring parameters from /tmp/tmpt3utnrro/model.ckpt-200\n",
            "INFO:tensorflow:Running local_init_op.\n",
            "INFO:tensorflow:Done running local_init_op.\n",
            "INFO:tensorflow:Saving checkpoints for 200 into /tmp/tmpt3utnrro/model.ckpt.\n",
            "INFO:tensorflow:loss = 17.530361, step = 200\n",
            "INFO:tensorflow:Saving checkpoints for 300 into /tmp/tmpt3utnrro/model.ckpt.\n",
            "INFO:tensorflow:Loss for final step: 6.245604.\n",
            "INFO:tensorflow:Calling model_fn.\n",
            "INFO:tensorflow:Done calling model_fn.\n",
            "INFO:tensorflow:Graph was finalized.\n",
            "INFO:tensorflow:Restoring parameters from /tmp/tmpt3utnrro/model.ckpt-300\n",
            "INFO:tensorflow:Running local_init_op.\n",
            "INFO:tensorflow:Done running local_init_op.\n",
            "INFO:tensorflow:Calling model_fn.\n",
            "INFO:tensorflow:Done calling model_fn.\n",
            "INFO:tensorflow:Graph was finalized.\n",
            "INFO:tensorflow:Restoring parameters from /tmp/tmpt3utnrro/model.ckpt-300\n",
            "INFO:tensorflow:Running local_init_op.\n",
            "INFO:tensorflow:Done running local_init_op.\n",
            "period 2: training loss 13, validation loss 13\n",
            "INFO:tensorflow:Calling model_fn.\n",
            "INFO:tensorflow:Done calling model_fn.\n",
            "INFO:tensorflow:Create CheckpointSaverHook.\n",
            "INFO:tensorflow:Graph was finalized.\n",
            "INFO:tensorflow:Restoring parameters from /tmp/tmpt3utnrro/model.ckpt-300\n",
            "INFO:tensorflow:Running local_init_op.\n",
            "INFO:tensorflow:Done running local_init_op.\n",
            "INFO:tensorflow:Saving checkpoints for 300 into /tmp/tmpt3utnrro/model.ckpt.\n",
            "INFO:tensorflow:loss = 17.088345, step = 300\n",
            "INFO:tensorflow:Saving checkpoints for 400 into /tmp/tmpt3utnrro/model.ckpt.\n",
            "INFO:tensorflow:Loss for final step: 11.732384.\n",
            "INFO:tensorflow:Calling model_fn.\n",
            "INFO:tensorflow:Done calling model_fn.\n",
            "INFO:tensorflow:Graph was finalized.\n",
            "INFO:tensorflow:Restoring parameters from /tmp/tmpt3utnrro/model.ckpt-400\n",
            "INFO:tensorflow:Running local_init_op.\n",
            "INFO:tensorflow:Done running local_init_op.\n",
            "INFO:tensorflow:Calling model_fn.\n",
            "INFO:tensorflow:Done calling model_fn.\n",
            "INFO:tensorflow:Graph was finalized.\n",
            "INFO:tensorflow:Restoring parameters from /tmp/tmpt3utnrro/model.ckpt-400\n",
            "INFO:tensorflow:Running local_init_op.\n",
            "INFO:tensorflow:Done running local_init_op.\n",
            "period 3: training loss 12, validation loss 11\n",
            "INFO:tensorflow:Calling model_fn.\n",
            "INFO:tensorflow:Done calling model_fn.\n",
            "INFO:tensorflow:Create CheckpointSaverHook.\n",
            "INFO:tensorflow:Graph was finalized.\n",
            "INFO:tensorflow:Restoring parameters from /tmp/tmpt3utnrro/model.ckpt-400\n",
            "INFO:tensorflow:Running local_init_op.\n",
            "INFO:tensorflow:Done running local_init_op.\n",
            "INFO:tensorflow:Saving checkpoints for 400 into /tmp/tmpt3utnrro/model.ckpt.\n",
            "INFO:tensorflow:loss = 13.846408, step = 400\n",
            "INFO:tensorflow:Saving checkpoints for 500 into /tmp/tmpt3utnrro/model.ckpt.\n",
            "INFO:tensorflow:Loss for final step: 5.0298715.\n",
            "INFO:tensorflow:Calling model_fn.\n",
            "INFO:tensorflow:Done calling model_fn.\n",
            "INFO:tensorflow:Graph was finalized.\n",
            "INFO:tensorflow:Restoring parameters from /tmp/tmpt3utnrro/model.ckpt-500\n",
            "INFO:tensorflow:Running local_init_op.\n",
            "INFO:tensorflow:Done running local_init_op.\n",
            "INFO:tensorflow:Calling model_fn.\n",
            "INFO:tensorflow:Done calling model_fn.\n",
            "INFO:tensorflow:Graph was finalized.\n",
            "INFO:tensorflow:Restoring parameters from /tmp/tmpt3utnrro/model.ckpt-500\n",
            "INFO:tensorflow:Running local_init_op.\n",
            "INFO:tensorflow:Done running local_init_op.\n",
            "period 4: training loss 11, validation loss 11\n",
            "INFO:tensorflow:Calling model_fn.\n",
            "INFO:tensorflow:Done calling model_fn.\n",
            "INFO:tensorflow:Create CheckpointSaverHook.\n",
            "INFO:tensorflow:Graph was finalized.\n",
            "INFO:tensorflow:Restoring parameters from /tmp/tmpt3utnrro/model.ckpt-500\n",
            "INFO:tensorflow:Running local_init_op.\n",
            "INFO:tensorflow:Done running local_init_op.\n",
            "INFO:tensorflow:Saving checkpoints for 500 into /tmp/tmpt3utnrro/model.ckpt.\n",
            "INFO:tensorflow:loss = 12.039958, step = 500\n",
            "INFO:tensorflow:Saving checkpoints for 600 into /tmp/tmpt3utnrro/model.ckpt.\n",
            "INFO:tensorflow:Loss for final step: 5.5859756.\n",
            "INFO:tensorflow:Calling model_fn.\n",
            "INFO:tensorflow:Done calling model_fn.\n",
            "INFO:tensorflow:Graph was finalized.\n",
            "INFO:tensorflow:Restoring parameters from /tmp/tmpt3utnrro/model.ckpt-600\n",
            "INFO:tensorflow:Running local_init_op.\n",
            "INFO:tensorflow:Done running local_init_op.\n",
            "INFO:tensorflow:Calling model_fn.\n",
            "INFO:tensorflow:Done calling model_fn.\n",
            "INFO:tensorflow:Graph was finalized.\n",
            "INFO:tensorflow:Restoring parameters from /tmp/tmpt3utnrro/model.ckpt-600\n",
            "INFO:tensorflow:Running local_init_op.\n",
            "INFO:tensorflow:Done running local_init_op.\n",
            "period 5: training loss 10, validation loss 10\n",
            "INFO:tensorflow:Calling model_fn.\n",
            "INFO:tensorflow:Done calling model_fn.\n",
            "INFO:tensorflow:Create CheckpointSaverHook.\n",
            "INFO:tensorflow:Graph was finalized.\n",
            "INFO:tensorflow:Restoring parameters from /tmp/tmpt3utnrro/model.ckpt-600\n",
            "INFO:tensorflow:Running local_init_op.\n",
            "INFO:tensorflow:Done running local_init_op.\n",
            "INFO:tensorflow:Saving checkpoints for 600 into /tmp/tmpt3utnrro/model.ckpt.\n",
            "INFO:tensorflow:loss = 12.626352, step = 600\n",
            "INFO:tensorflow:Saving checkpoints for 700 into /tmp/tmpt3utnrro/model.ckpt.\n",
            "INFO:tensorflow:Loss for final step: 7.6397448.\n",
            "INFO:tensorflow:Calling model_fn.\n",
            "INFO:tensorflow:Done calling model_fn.\n",
            "INFO:tensorflow:Graph was finalized.\n",
            "INFO:tensorflow:Restoring parameters from /tmp/tmpt3utnrro/model.ckpt-700\n",
            "INFO:tensorflow:Running local_init_op.\n",
            "INFO:tensorflow:Done running local_init_op.\n",
            "INFO:tensorflow:Calling model_fn.\n",
            "INFO:tensorflow:Done calling model_fn.\n",
            "INFO:tensorflow:Graph was finalized.\n",
            "INFO:tensorflow:Restoring parameters from /tmp/tmpt3utnrro/model.ckpt-700\n",
            "INFO:tensorflow:Running local_init_op.\n",
            "INFO:tensorflow:Done running local_init_op.\n",
            "period 6: training loss 9, validation loss 9\n",
            "INFO:tensorflow:Calling model_fn.\n",
            "INFO:tensorflow:Done calling model_fn.\n",
            "INFO:tensorflow:Create CheckpointSaverHook.\n",
            "INFO:tensorflow:Graph was finalized.\n",
            "INFO:tensorflow:Restoring parameters from /tmp/tmpt3utnrro/model.ckpt-700\n",
            "INFO:tensorflow:Running local_init_op.\n",
            "INFO:tensorflow:Done running local_init_op.\n",
            "INFO:tensorflow:Saving checkpoints for 700 into /tmp/tmpt3utnrro/model.ckpt.\n",
            "INFO:tensorflow:loss = 5.0622277, step = 700\n",
            "INFO:tensorflow:Saving checkpoints for 800 into /tmp/tmpt3utnrro/model.ckpt.\n",
            "INFO:tensorflow:Loss for final step: 11.508512.\n",
            "INFO:tensorflow:Calling model_fn.\n",
            "INFO:tensorflow:Done calling model_fn.\n",
            "INFO:tensorflow:Graph was finalized.\n",
            "INFO:tensorflow:Restoring parameters from /tmp/tmpt3utnrro/model.ckpt-800\n",
            "INFO:tensorflow:Running local_init_op.\n",
            "INFO:tensorflow:Done running local_init_op.\n",
            "INFO:tensorflow:Calling model_fn.\n",
            "INFO:tensorflow:Done calling model_fn.\n",
            "INFO:tensorflow:Graph was finalized.\n",
            "INFO:tensorflow:Restoring parameters from /tmp/tmpt3utnrro/model.ckpt-800\n",
            "INFO:tensorflow:Running local_init_op.\n",
            "INFO:tensorflow:Done running local_init_op.\n",
            "period 7: training loss 8, validation loss 9\n",
            "INFO:tensorflow:Calling model_fn.\n",
            "INFO:tensorflow:Done calling model_fn.\n",
            "INFO:tensorflow:Create CheckpointSaverHook.\n",
            "INFO:tensorflow:Graph was finalized.\n",
            "INFO:tensorflow:Restoring parameters from /tmp/tmpt3utnrro/model.ckpt-800\n",
            "INFO:tensorflow:Running local_init_op.\n",
            "INFO:tensorflow:Done running local_init_op.\n",
            "INFO:tensorflow:Saving checkpoints for 800 into /tmp/tmpt3utnrro/model.ckpt.\n",
            "INFO:tensorflow:loss = 7.836684, step = 800\n",
            "INFO:tensorflow:Saving checkpoints for 900 into /tmp/tmpt3utnrro/model.ckpt.\n",
            "INFO:tensorflow:Loss for final step: 9.637397.\n",
            "INFO:tensorflow:Calling model_fn.\n",
            "INFO:tensorflow:Done calling model_fn.\n",
            "INFO:tensorflow:Graph was finalized.\n",
            "INFO:tensorflow:Restoring parameters from /tmp/tmpt3utnrro/model.ckpt-900\n",
            "INFO:tensorflow:Running local_init_op.\n",
            "INFO:tensorflow:Done running local_init_op.\n",
            "INFO:tensorflow:Calling model_fn.\n",
            "INFO:tensorflow:Done calling model_fn.\n",
            "INFO:tensorflow:Graph was finalized.\n",
            "INFO:tensorflow:Restoring parameters from /tmp/tmpt3utnrro/model.ckpt-900\n",
            "INFO:tensorflow:Running local_init_op.\n",
            "INFO:tensorflow:Done running local_init_op.\n",
            "period 8: training loss 9, validation loss 9\n",
            "INFO:tensorflow:Calling model_fn.\n",
            "INFO:tensorflow:Done calling model_fn.\n",
            "INFO:tensorflow:Create CheckpointSaverHook.\n",
            "INFO:tensorflow:Graph was finalized.\n",
            "INFO:tensorflow:Restoring parameters from /tmp/tmpt3utnrro/model.ckpt-900\n",
            "INFO:tensorflow:Running local_init_op.\n",
            "INFO:tensorflow:Done running local_init_op.\n",
            "INFO:tensorflow:Saving checkpoints for 900 into /tmp/tmpt3utnrro/model.ckpt.\n",
            "INFO:tensorflow:loss = 9.947147, step = 900\n",
            "INFO:tensorflow:Saving checkpoints for 1000 into /tmp/tmpt3utnrro/model.ckpt.\n",
            "INFO:tensorflow:Loss for final step: 5.072118.\n",
            "INFO:tensorflow:Calling model_fn.\n",
            "INFO:tensorflow:Done calling model_fn.\n",
            "INFO:tensorflow:Graph was finalized.\n",
            "INFO:tensorflow:Restoring parameters from /tmp/tmpt3utnrro/model.ckpt-1000\n",
            "INFO:tensorflow:Running local_init_op.\n",
            "INFO:tensorflow:Done running local_init_op.\n",
            "INFO:tensorflow:Calling model_fn.\n",
            "INFO:tensorflow:Done calling model_fn.\n",
            "INFO:tensorflow:Graph was finalized.\n",
            "INFO:tensorflow:Restoring parameters from /tmp/tmpt3utnrro/model.ckpt-1000\n",
            "INFO:tensorflow:Running local_init_op.\n",
            "INFO:tensorflow:Done running local_init_op.\n",
            "period 9: training loss 8, validation loss 8\n",
            "INFO:tensorflow:Calling model_fn.\n",
            "INFO:tensorflow:Done calling model_fn.\n",
            "INFO:tensorflow:Graph was finalized.\n",
            "INFO:tensorflow:Restoring parameters from /tmp/tmpt3utnrro/model.ckpt-1000\n",
            "INFO:tensorflow:Running local_init_op.\n",
            "INFO:tensorflow:Done running local_init_op.\n",
            "INFO:tensorflow:Calling model_fn.\n",
            "INFO:tensorflow:Done calling model_fn.\n",
            "INFO:tensorflow:Graph was finalized.\n",
            "INFO:tensorflow:Restoring parameters from /tmp/tmpt3utnrro/model.ckpt-1000\n",
            "INFO:tensorflow:Running local_init_op.\n",
            "INFO:tensorflow:Done running local_init_op.\n",
            "\n",
            "accuracy on training data is 0.7452 and on validating data is %d  0.741\n"
          ],
          "name": "stdout"
        },
        {
          "output_type": "display_data",
          "data": {
            "image/png": "[encoded data removed]",
            "text/plain": [
              "<Figure size 432x288 with 1 Axes>"
            ]
          },
          "metadata": {
            "tags": []
          }
        },
        {
          "output_type": "display_data",
          "data": {
            "image/png": "[encoded data removed]",
            "text/plain": [
              "<Figure size 432x288 with 2 Axes>"
            ]
          },
          "metadata": {
            "tags": []
          }
        }
      ]
    },
    {
      "cell_type": "code",
      "metadata": {
        "id": "jaMPlpYevNlY",
        "colab_type": "code",
        "colab": {
          "base_uri": "https://localhost:8080/",
          "height": 1000
        },
        "outputId": "aa2ff5f3-f055-40ad-ac21-785fee978e70"
      },
      "source": [
        "learning_rate=0.05\n",
        "steps=1000\n",
        "batch_size=30\n",
        "hidden_units=[100, 100]\n",
        "num_epochs=5\n",
        "shuffle=True\n",
        "nn_classifier = create_dnn_model(train_images,train_labels,validation_images,validation_labels,learning_rate,batch_size,steps,num_epochs,shuffle,hidden_units)"
      ],
      "execution_count": 52,
      "outputs": [
        {
          "output_type": "stream",
          "text": [
            "INFO:tensorflow:Using default config.\n",
            "WARNING:tensorflow:Using temporary folder as model directory: /tmp/tmpy_3gt4iv\n",
            "INFO:tensorflow:Using config: {'_model_dir': '/tmp/tmpy_3gt4iv', '_tf_random_seed': None, '_save_summary_steps': 100, '_save_checkpoints_steps': None, '_save_checkpoints_secs': 600, '_session_config': allow_soft_placement: true\n",
            "graph_options {\n",
            "  rewrite_options {\n",
            "    meta_optimizer_iterations: ONE\n",
            "  }\n",
            "}\n",
            ", '_keep_checkpoint_max': 5, '_keep_checkpoint_every_n_hours': 10000, '_log_step_count_steps': 100, '_train_distribute': None, '_device_fn': None, '_protocol': None, '_eval_distribute': None, '_experimental_distribute': None, '_experimental_max_worker_delay_secs': None, '_session_creation_timeout_secs': 7200, '_service': None, '_cluster_spec': <tensorflow.python.training.server_lib.ClusterSpec object at 0x7f1d0063cac8>, '_task_type': 'worker', '_task_id': 0, '_global_id_in_cluster': 0, '_master': '', '_evaluation_master': '', '_is_chief': True, '_num_ps_replicas': 0, '_num_worker_replicas': 1}\n",
            "INFO:tensorflow:Calling model_fn.\n",
            "INFO:tensorflow:Done calling model_fn.\n",
            "INFO:tensorflow:Create CheckpointSaverHook.\n",
            "INFO:tensorflow:Graph was finalized.\n",
            "INFO:tensorflow:Running local_init_op.\n",
            "INFO:tensorflow:Done running local_init_op.\n",
            "INFO:tensorflow:Saving checkpoints for 0 into /tmp/tmpy_3gt4iv/model.ckpt.\n",
            "INFO:tensorflow:loss = 72.16237, step = 0\n",
            "INFO:tensorflow:Saving checkpoints for 100 into /tmp/tmpy_3gt4iv/model.ckpt.\n",
            "INFO:tensorflow:Loss for final step: 19.283848.\n",
            "INFO:tensorflow:Calling model_fn.\n",
            "INFO:tensorflow:Done calling model_fn.\n",
            "INFO:tensorflow:Graph was finalized.\n",
            "INFO:tensorflow:Restoring parameters from /tmp/tmpy_3gt4iv/model.ckpt-100\n",
            "INFO:tensorflow:Running local_init_op.\n",
            "INFO:tensorflow:Done running local_init_op.\n",
            "INFO:tensorflow:Calling model_fn.\n",
            "INFO:tensorflow:Done calling model_fn.\n",
            "INFO:tensorflow:Graph was finalized.\n",
            "INFO:tensorflow:Restoring parameters from /tmp/tmpy_3gt4iv/model.ckpt-100\n",
            "INFO:tensorflow:Running local_init_op.\n",
            "INFO:tensorflow:Done running local_init_op.\n",
            "period 0: training loss 9, validation loss 10\n",
            "INFO:tensorflow:Calling model_fn.\n",
            "INFO:tensorflow:Done calling model_fn.\n",
            "INFO:tensorflow:Create CheckpointSaverHook.\n",
            "INFO:tensorflow:Graph was finalized.\n",
            "INFO:tensorflow:Restoring parameters from /tmp/tmpy_3gt4iv/model.ckpt-100\n",
            "INFO:tensorflow:Running local_init_op.\n",
            "INFO:tensorflow:Done running local_init_op.\n",
            "INFO:tensorflow:Saving checkpoints for 100 into /tmp/tmpy_3gt4iv/model.ckpt.\n",
            "INFO:tensorflow:loss = 31.674152, step = 100\n",
            "INFO:tensorflow:Saving checkpoints for 200 into /tmp/tmpy_3gt4iv/model.ckpt.\n",
            "INFO:tensorflow:Loss for final step: 13.305377.\n",
            "INFO:tensorflow:Calling model_fn.\n",
            "INFO:tensorflow:Done calling model_fn.\n",
            "INFO:tensorflow:Graph was finalized.\n",
            "INFO:tensorflow:Restoring parameters from /tmp/tmpy_3gt4iv/model.ckpt-200\n",
            "INFO:tensorflow:Running local_init_op.\n",
            "INFO:tensorflow:Done running local_init_op.\n",
            "INFO:tensorflow:Calling model_fn.\n",
            "INFO:tensorflow:Done calling model_fn.\n",
            "INFO:tensorflow:Graph was finalized.\n",
            "INFO:tensorflow:Restoring parameters from /tmp/tmpy_3gt4iv/model.ckpt-200\n",
            "INFO:tensorflow:Running local_init_op.\n",
            "INFO:tensorflow:Done running local_init_op.\n",
            "period 1: training loss 8, validation loss 9\n",
            "INFO:tensorflow:Calling model_fn.\n",
            "INFO:tensorflow:Done calling model_fn.\n",
            "INFO:tensorflow:Create CheckpointSaverHook.\n",
            "INFO:tensorflow:Graph was finalized.\n",
            "INFO:tensorflow:Restoring parameters from /tmp/tmpy_3gt4iv/model.ckpt-200\n",
            "INFO:tensorflow:Running local_init_op.\n",
            "INFO:tensorflow:Done running local_init_op.\n",
            "INFO:tensorflow:Saving checkpoints for 200 into /tmp/tmpy_3gt4iv/model.ckpt.\n",
            "INFO:tensorflow:loss = 14.832738, step = 200\n",
            "INFO:tensorflow:Saving checkpoints for 300 into /tmp/tmpy_3gt4iv/model.ckpt.\n",
            "INFO:tensorflow:Loss for final step: 15.720648.\n",
            "INFO:tensorflow:Calling model_fn.\n",
            "INFO:tensorflow:Done calling model_fn.\n",
            "INFO:tensorflow:Graph was finalized.\n",
            "INFO:tensorflow:Restoring parameters from /tmp/tmpy_3gt4iv/model.ckpt-300\n",
            "INFO:tensorflow:Running local_init_op.\n",
            "INFO:tensorflow:Done running local_init_op.\n",
            "INFO:tensorflow:Calling model_fn.\n",
            "INFO:tensorflow:Done calling model_fn.\n",
            "INFO:tensorflow:Graph was finalized.\n",
            "INFO:tensorflow:Restoring parameters from /tmp/tmpy_3gt4iv/model.ckpt-300\n",
            "INFO:tensorflow:Running local_init_op.\n",
            "INFO:tensorflow:Done running local_init_op.\n",
            "period 2: training loss 7, validation loss 8\n",
            "INFO:tensorflow:Calling model_fn.\n",
            "INFO:tensorflow:Done calling model_fn.\n",
            "INFO:tensorflow:Create CheckpointSaverHook.\n",
            "INFO:tensorflow:Graph was finalized.\n",
            "INFO:tensorflow:Restoring parameters from /tmp/tmpy_3gt4iv/model.ckpt-300\n",
            "INFO:tensorflow:Running local_init_op.\n",
            "INFO:tensorflow:Done running local_init_op.\n",
            "INFO:tensorflow:Saving checkpoints for 300 into /tmp/tmpy_3gt4iv/model.ckpt.\n",
            "INFO:tensorflow:loss = 27.686771, step = 300\n",
            "INFO:tensorflow:Saving checkpoints for 400 into /tmp/tmpy_3gt4iv/model.ckpt.\n",
            "INFO:tensorflow:Loss for final step: 14.226796.\n",
            "INFO:tensorflow:Calling model_fn.\n",
            "INFO:tensorflow:Done calling model_fn.\n",
            "INFO:tensorflow:Graph was finalized.\n",
            "INFO:tensorflow:Restoring parameters from /tmp/tmpy_3gt4iv/model.ckpt-400\n",
            "INFO:tensorflow:Running local_init_op.\n",
            "INFO:tensorflow:Done running local_init_op.\n",
            "INFO:tensorflow:Calling model_fn.\n",
            "INFO:tensorflow:Done calling model_fn.\n",
            "INFO:tensorflow:Graph was finalized.\n",
            "INFO:tensorflow:Restoring parameters from /tmp/tmpy_3gt4iv/model.ckpt-400\n",
            "INFO:tensorflow:Running local_init_op.\n",
            "INFO:tensorflow:Done running local_init_op.\n",
            "period 3: training loss 10, validation loss 10\n",
            "INFO:tensorflow:Calling model_fn.\n",
            "INFO:tensorflow:Done calling model_fn.\n",
            "INFO:tensorflow:Create CheckpointSaverHook.\n",
            "INFO:tensorflow:Graph was finalized.\n",
            "INFO:tensorflow:Restoring parameters from /tmp/tmpy_3gt4iv/model.ckpt-400\n",
            "INFO:tensorflow:Running local_init_op.\n",
            "INFO:tensorflow:Done running local_init_op.\n",
            "INFO:tensorflow:Saving checkpoints for 400 into /tmp/tmpy_3gt4iv/model.ckpt.\n",
            "INFO:tensorflow:loss = 24.04581, step = 400\n",
            "INFO:tensorflow:Saving checkpoints for 500 into /tmp/tmpy_3gt4iv/model.ckpt.\n",
            "INFO:tensorflow:Loss for final step: 10.962576.\n",
            "INFO:tensorflow:Calling model_fn.\n",
            "INFO:tensorflow:Done calling model_fn.\n",
            "INFO:tensorflow:Graph was finalized.\n",
            "INFO:tensorflow:Restoring parameters from /tmp/tmpy_3gt4iv/model.ckpt-500\n",
            "INFO:tensorflow:Running local_init_op.\n",
            "INFO:tensorflow:Done running local_init_op.\n",
            "INFO:tensorflow:Calling model_fn.\n",
            "INFO:tensorflow:Done calling model_fn.\n",
            "INFO:tensorflow:Graph was finalized.\n",
            "INFO:tensorflow:Restoring parameters from /tmp/tmpy_3gt4iv/model.ckpt-500\n",
            "INFO:tensorflow:Running local_init_op.\n",
            "INFO:tensorflow:Done running local_init_op.\n",
            "period 4: training loss 6, validation loss 6\n",
            "INFO:tensorflow:Calling model_fn.\n",
            "INFO:tensorflow:Done calling model_fn.\n",
            "INFO:tensorflow:Create CheckpointSaverHook.\n",
            "INFO:tensorflow:Graph was finalized.\n",
            "INFO:tensorflow:Restoring parameters from /tmp/tmpy_3gt4iv/model.ckpt-500\n",
            "INFO:tensorflow:Running local_init_op.\n",
            "INFO:tensorflow:Done running local_init_op.\n",
            "INFO:tensorflow:Saving checkpoints for 500 into /tmp/tmpy_3gt4iv/model.ckpt.\n",
            "INFO:tensorflow:loss = 17.531876, step = 500\n",
            "INFO:tensorflow:Saving checkpoints for 600 into /tmp/tmpy_3gt4iv/model.ckpt.\n",
            "INFO:tensorflow:Loss for final step: 17.302975.\n",
            "INFO:tensorflow:Calling model_fn.\n",
            "INFO:tensorflow:Done calling model_fn.\n",
            "INFO:tensorflow:Graph was finalized.\n",
            "INFO:tensorflow:Restoring parameters from /tmp/tmpy_3gt4iv/model.ckpt-600\n",
            "INFO:tensorflow:Running local_init_op.\n",
            "INFO:tensorflow:Done running local_init_op.\n",
            "INFO:tensorflow:Calling model_fn.\n",
            "INFO:tensorflow:Done calling model_fn.\n",
            "INFO:tensorflow:Graph was finalized.\n",
            "INFO:tensorflow:Restoring parameters from /tmp/tmpy_3gt4iv/model.ckpt-600\n",
            "INFO:tensorflow:Running local_init_op.\n",
            "INFO:tensorflow:Done running local_init_op.\n",
            "period 5: training loss 6, validation loss 6\n",
            "INFO:tensorflow:Calling model_fn.\n",
            "INFO:tensorflow:Done calling model_fn.\n",
            "INFO:tensorflow:Create CheckpointSaverHook.\n",
            "INFO:tensorflow:Graph was finalized.\n",
            "INFO:tensorflow:Restoring parameters from /tmp/tmpy_3gt4iv/model.ckpt-600\n",
            "INFO:tensorflow:Running local_init_op.\n",
            "INFO:tensorflow:Done running local_init_op.\n",
            "INFO:tensorflow:Saving checkpoints for 600 into /tmp/tmpy_3gt4iv/model.ckpt.\n",
            "INFO:tensorflow:loss = 14.345405, step = 600\n",
            "INFO:tensorflow:Saving checkpoints for 700 into /tmp/tmpy_3gt4iv/model.ckpt.\n",
            "INFO:tensorflow:Loss for final step: 11.061242.\n",
            "INFO:tensorflow:Calling model_fn.\n",
            "INFO:tensorflow:Done calling model_fn.\n",
            "INFO:tensorflow:Graph was finalized.\n",
            "INFO:tensorflow:Restoring parameters from /tmp/tmpy_3gt4iv/model.ckpt-700\n",
            "INFO:tensorflow:Running local_init_op.\n",
            "INFO:tensorflow:Done running local_init_op.\n",
            "INFO:tensorflow:Calling model_fn.\n",
            "INFO:tensorflow:Done calling model_fn.\n",
            "INFO:tensorflow:Graph was finalized.\n",
            "INFO:tensorflow:Restoring parameters from /tmp/tmpy_3gt4iv/model.ckpt-700\n",
            "INFO:tensorflow:Running local_init_op.\n",
            "INFO:tensorflow:Done running local_init_op.\n",
            "period 6: training loss 5, validation loss 6\n",
            "INFO:tensorflow:Calling model_fn.\n",
            "INFO:tensorflow:Done calling model_fn.\n",
            "INFO:tensorflow:Create CheckpointSaverHook.\n",
            "INFO:tensorflow:Graph was finalized.\n",
            "INFO:tensorflow:Restoring parameters from /tmp/tmpy_3gt4iv/model.ckpt-700\n",
            "INFO:tensorflow:Running local_init_op.\n",
            "INFO:tensorflow:Done running local_init_op.\n",
            "INFO:tensorflow:Saving checkpoints for 700 into /tmp/tmpy_3gt4iv/model.ckpt.\n",
            "INFO:tensorflow:loss = 12.317522, step = 700\n",
            "INFO:tensorflow:Saving checkpoints for 800 into /tmp/tmpy_3gt4iv/model.ckpt.\n",
            "INFO:tensorflow:Loss for final step: 8.581867.\n",
            "INFO:tensorflow:Calling model_fn.\n",
            "INFO:tensorflow:Done calling model_fn.\n",
            "INFO:tensorflow:Graph was finalized.\n",
            "INFO:tensorflow:Restoring parameters from /tmp/tmpy_3gt4iv/model.ckpt-800\n",
            "INFO:tensorflow:Running local_init_op.\n",
            "INFO:tensorflow:Done running local_init_op.\n",
            "INFO:tensorflow:Calling model_fn.\n",
            "INFO:tensorflow:Done calling model_fn.\n",
            "INFO:tensorflow:Graph was finalized.\n",
            "INFO:tensorflow:Restoring parameters from /tmp/tmpy_3gt4iv/model.ckpt-800\n",
            "INFO:tensorflow:Running local_init_op.\n",
            "INFO:tensorflow:Done running local_init_op.\n",
            "period 7: training loss 5, validation loss 6\n",
            "INFO:tensorflow:Calling model_fn.\n",
            "INFO:tensorflow:Done calling model_fn.\n",
            "INFO:tensorflow:Create CheckpointSaverHook.\n",
            "INFO:tensorflow:Graph was finalized.\n",
            "INFO:tensorflow:Restoring parameters from /tmp/tmpy_3gt4iv/model.ckpt-800\n",
            "INFO:tensorflow:Running local_init_op.\n",
            "INFO:tensorflow:Done running local_init_op.\n",
            "INFO:tensorflow:Saving checkpoints for 800 into /tmp/tmpy_3gt4iv/model.ckpt.\n",
            "INFO:tensorflow:loss = 15.155741, step = 800\n",
            "INFO:tensorflow:Saving checkpoints for 900 into /tmp/tmpy_3gt4iv/model.ckpt.\n",
            "INFO:tensorflow:Loss for final step: 9.202877.\n",
            "INFO:tensorflow:Calling model_fn.\n",
            "INFO:tensorflow:Done calling model_fn.\n",
            "INFO:tensorflow:Graph was finalized.\n",
            "INFO:tensorflow:Restoring parameters from /tmp/tmpy_3gt4iv/model.ckpt-900\n",
            "INFO:tensorflow:Running local_init_op.\n",
            "INFO:tensorflow:Done running local_init_op.\n",
            "INFO:tensorflow:Calling model_fn.\n",
            "INFO:tensorflow:Done calling model_fn.\n",
            "INFO:tensorflow:Graph was finalized.\n",
            "INFO:tensorflow:Restoring parameters from /tmp/tmpy_3gt4iv/model.ckpt-900\n",
            "INFO:tensorflow:Running local_init_op.\n",
            "INFO:tensorflow:Done running local_init_op.\n",
            "period 8: training loss 5, validation loss 6\n",
            "INFO:tensorflow:Calling model_fn.\n",
            "INFO:tensorflow:Done calling model_fn.\n",
            "INFO:tensorflow:Create CheckpointSaverHook.\n",
            "INFO:tensorflow:Graph was finalized.\n",
            "INFO:tensorflow:Restoring parameters from /tmp/tmpy_3gt4iv/model.ckpt-900\n",
            "INFO:tensorflow:Running local_init_op.\n",
            "INFO:tensorflow:Done running local_init_op.\n",
            "INFO:tensorflow:Saving checkpoints for 900 into /tmp/tmpy_3gt4iv/model.ckpt.\n",
            "INFO:tensorflow:loss = 6.1149445, step = 900\n",
            "INFO:tensorflow:Saving checkpoints for 1000 into /tmp/tmpy_3gt4iv/model.ckpt.\n",
            "INFO:tensorflow:Loss for final step: 13.0238495.\n",
            "INFO:tensorflow:Calling model_fn.\n",
            "INFO:tensorflow:Done calling model_fn.\n",
            "INFO:tensorflow:Graph was finalized.\n",
            "INFO:tensorflow:Restoring parameters from /tmp/tmpy_3gt4iv/model.ckpt-1000\n",
            "INFO:tensorflow:Running local_init_op.\n",
            "INFO:tensorflow:Done running local_init_op.\n",
            "INFO:tensorflow:Calling model_fn.\n",
            "INFO:tensorflow:Done calling model_fn.\n",
            "INFO:tensorflow:Graph was finalized.\n",
            "INFO:tensorflow:Restoring parameters from /tmp/tmpy_3gt4iv/model.ckpt-1000\n",
            "INFO:tensorflow:Running local_init_op.\n",
            "INFO:tensorflow:Done running local_init_op.\n",
            "period 9: training loss 5, validation loss 5\n",
            "INFO:tensorflow:Calling model_fn.\n",
            "INFO:tensorflow:Done calling model_fn.\n",
            "INFO:tensorflow:Graph was finalized.\n",
            "INFO:tensorflow:Restoring parameters from /tmp/tmpy_3gt4iv/model.ckpt-1000\n",
            "INFO:tensorflow:Running local_init_op.\n",
            "INFO:tensorflow:Done running local_init_op.\n",
            "INFO:tensorflow:Calling model_fn.\n",
            "INFO:tensorflow:Done calling model_fn.\n",
            "INFO:tensorflow:Graph was finalized.\n",
            "INFO:tensorflow:Restoring parameters from /tmp/tmpy_3gt4iv/model.ckpt-1000\n",
            "INFO:tensorflow:Running local_init_op.\n",
            "INFO:tensorflow:Done running local_init_op.\n",
            "\n",
            "accuracy on training data is 0.8412 and on validating data is %d  0.833\n"
          ],
          "name": "stdout"
        },
        {
          "output_type": "display_data",
          "data": {
            "image/png": "[encoded data removed]",
            "text/plain": [
              "<Figure size 432x288 with 1 Axes>"
            ]
          },
          "metadata": {
            "tags": []
          }
        },
        {
          "output_type": "display_data",
          "data": {
            "image/png": "[encoded data removed]",
            "text/plain": [
              "<Figure size 432x288 with 2 Axes>"
            ]
          },
          "metadata": {
            "tags": []
          }
        }
      ]
    },
    {
      "cell_type": "code",
      "metadata": {
        "id": "PXjrQZGZv09T",
        "colab_type": "code",
        "colab": {
          "base_uri": "https://localhost:8080/",
          "height": 136
        },
        "outputId": "455e3889-ed1f-4ffd-bd2f-2eb2aa70128f"
      },
      "source": [
        "validating_test_input_fn = predict_input_fn(test_images,test_labels,batch_size) \n",
        "final_testing_predictions = nn_classifier.predict(input_fn=validating_test_input_fn)\n",
        "final_testing_predictions = [item['class_ids'][0] for item in final_testing_predictions]\n",
        "test_accuracy = metrics.accuracy_score(final_testing_predictions,test_labels)\n",
        "\n",
        "print(\"accuracy on test data is \",test_accuracy)"
      ],
      "execution_count": 53,
      "outputs": [
        {
          "output_type": "stream",
          "text": [
            "INFO:tensorflow:Calling model_fn.\n",
            "INFO:tensorflow:Done calling model_fn.\n",
            "INFO:tensorflow:Graph was finalized.\n",
            "INFO:tensorflow:Restoring parameters from /tmp/tmpy_3gt4iv/model.ckpt-1000\n",
            "INFO:tensorflow:Running local_init_op.\n",
            "INFO:tensorflow:Done running local_init_op.\n",
            "accuracy on test data is  0.82\n"
          ],
          "name": "stdout"
        }
      ]
    },
    {
      "cell_type": "markdown",
      "metadata": {
        "id": "LYaCJDFCzAjt",
        "colab_type": "text"
      },
      "source": [
        "visualize the weights of first hidden layer"
      ]
    },
    {
      "cell_type": "code",
      "metadata": {
        "id": "IFLhCXz4wd3Q",
        "colab_type": "code",
        "colab": {
          "base_uri": "https://localhost:8080/",
          "height": 238
        },
        "outputId": "a13a620d-f14c-47ca-8770-469f9aa88f7d"
      },
      "source": [
        "nn_classifier.get_variable_names()"
      ],
      "execution_count": 77,
      "outputs": [
        {
          "output_type": "execute_result",
          "data": {
            "text/plain": [
              "['dnn/hiddenlayer_0/bias',\n",
              " 'dnn/hiddenlayer_0/bias/t_0/Adagrad',\n",
              " 'dnn/hiddenlayer_0/kernel',\n",
              " 'dnn/hiddenlayer_0/kernel/t_0/Adagrad',\n",
              " 'dnn/hiddenlayer_1/bias',\n",
              " 'dnn/hiddenlayer_1/bias/t_0/Adagrad',\n",
              " 'dnn/hiddenlayer_1/kernel',\n",
              " 'dnn/hiddenlayer_1/kernel/t_0/Adagrad',\n",
              " 'dnn/logits/bias',\n",
              " 'dnn/logits/bias/t_0/Adagrad',\n",
              " 'dnn/logits/kernel',\n",
              " 'dnn/logits/kernel/t_0/Adagrad',\n",
              " 'global_step']"
            ]
          },
          "metadata": {
            "tags": []
          },
          "execution_count": 77
        }
      ]
    },
    {
      "cell_type": "code",
      "metadata": {
        "id": "gYQ10mjF1ewz",
        "colab_type": "code",
        "colab": {
          "base_uri": "https://localhost:8080/",
          "height": 186
        },
        "outputId": "a36048a4-997c-42d2-985d-1dd61ff5dfb3"
      },
      "source": [
        "print(nn_classifier.get_variable_names())\n",
        "\n",
        "weights0 = classifier.get_variable_value(\"dnn/hiddenlayer_0/kernel\")\n",
        "\n",
        "print(\"weights0 shape:\", weights0.shape)\n",
        "\n",
        "num_nodes = weights0.shape[1]\n",
        "num_rows = int(math.ceil(num_nodes / 10.0))\n",
        "fig, axes = plt.subplots(num_rows, 10, figsize=(20, 2 * num_rows))\n",
        "for coef, ax in zip(weights0.T, axes.ravel()):\n",
        "    # Weights in coef is reshaped from 1x784 to 28x28.\n",
        "    ax.matshow(coef.reshape(28, 28), cmap=plt.cm.pink)\n",
        "    ax.set_xticks(())\n",
        "    ax.set_yticks(())\n",
        "\n",
        "plt.show()"
      ],
      "execution_count": 80,
      "outputs": [
        {
          "output_type": "stream",
          "text": [
            "['dnn/hiddenlayer_0/bias', 'dnn/hiddenlayer_0/bias/t_0/Adagrad', 'dnn/hiddenlayer_0/kernel', 'dnn/hiddenlayer_0/kernel/t_0/Adagrad', 'dnn/hiddenlayer_1/bias', 'dnn/hiddenlayer_1/bias/t_0/Adagrad', 'dnn/hiddenlayer_1/kernel', 'dnn/hiddenlayer_1/kernel/t_0/Adagrad', 'dnn/logits/bias', 'dnn/logits/bias/t_0/Adagrad', 'dnn/logits/kernel', 'dnn/logits/kernel/t_0/Adagrad', 'global_step']\n",
            "weights0 shape: (784, 10)\n"
          ],
          "name": "stdout"
        },
        {
          "output_type": "display_data",
          "data": {
            "image/png": "[encoded data removed]",
            "text/plain": [
              "<Figure size 1440x144 with 10 Axes>"
            ]
          },
          "metadata": {
            "tags": []
          }
        }
      ]
    },
    {
      "cell_type": "code",
      "metadata": {
        "id": "R59waSiL29X9",
        "colab_type": "code",
        "colab": {}
      },
      "source": [
        ""
      ],
      "execution_count": 0,
      "outputs": []
    }
  ]
}